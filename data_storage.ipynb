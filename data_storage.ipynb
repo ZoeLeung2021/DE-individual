{
 "cells": [
  {
   "cell_type": "markdown",
   "metadata": {},
   "source": [
    "### Subset the dataframe according to schema"
   ]
  },
  {
   "cell_type": "code",
   "execution_count": 30,
   "metadata": {},
   "outputs": [],
   "source": [
    "import os\n",
    "from pyspark.sql import SparkSession\n",
    "import pandas as pd\n",
    "import numpy as np"
   ]
  },
  {
   "cell_type": "code",
   "execution_count": 31,
   "metadata": {},
   "outputs": [],
   "source": [
    "os.environ[\"JAVA_HOME\"] = \"/usr/lib/jvm/java-8-openjdk-amd64\"\n",
    "os.environ[\"SPARK_HOME\"] = \"/project/spark-3.2.1-bin-hadoop3.2\""
   ]
  },
  {
   "cell_type": "code",
   "execution_count": 32,
   "metadata": {},
   "outputs": [],
   "source": [
    "spark = SparkSession \\\n",
    "    .builder \\\n",
    "    .appName(\"Database\") \\\n",
    "    .config(\"spark.jars\", \"postgresql-42.3.2.jar\") \\\n",
    "    .getOrCreate()"
   ]
  },
  {
   "cell_type": "code",
   "execution_count": 33,
   "metadata": {},
   "outputs": [],
   "source": [
    "driver_stats_final=pd.read_csv('/project/DE-individual/collection_output/driver_stats_final.csv')\n",
    "driver_standings_final=pd.read_csv('/project/DE-individual/collection_output/driver_standings_final.csv')"
   ]
  },
  {
   "cell_type": "code",
   "execution_count": 34,
   "metadata": {},
   "outputs": [],
   "source": [
    "driver_stats_final.drop('Unnamed: 0',axis=1,inplace=True)\n",
    "driver_standings_final.drop('Unnamed: 0',axis=1,inplace=True)"
   ]
  },
  {
   "cell_type": "code",
   "execution_count": 35,
   "metadata": {},
   "outputs": [],
   "source": [
    "driver_stats_spark_df = spark.createDataFrame(driver_stats_final)\n",
    "driver_standings_spark_df = spark.createDataFrame(driver_standings_final)"
   ]
  },
  {
   "cell_type": "code",
   "execution_count": 36,
   "metadata": {},
   "outputs": [
    {
     "name": "stdout",
     "output_type": "stream",
     "text": [
      "root\n",
      " |-- id: string (nullable = true)\n",
      " |-- first_name: string (nullable = true)\n",
      " |-- last_name: string (nullable = true)\n",
      " |-- full_name: string (nullable = true)\n",
      " |-- birthday: string (nullable = true)\n",
      " |-- rookie_year: double (nullable = true)\n",
      " |-- gender: string (nullable = true)\n",
      " |-- country: string (nullable = true)\n",
      " |-- birth_place: string (nullable = true)\n",
      " |-- twitter: string (nullable = true)\n",
      " |-- height: string (nullable = true)\n",
      " |-- weight: string (nullable = true)\n",
      " |-- series: string (nullable = true)\n",
      "\n"
     ]
    }
   ],
   "source": [
    "driver_stats_spark_df.printSchema()"
   ]
  },
  {
   "cell_type": "code",
   "execution_count": 37,
   "metadata": {},
   "outputs": [
    {
     "name": "stdout",
     "output_type": "stream",
     "text": [
      "root\n",
      " |-- id: string (nullable = true)\n",
      " |-- first_name: string (nullable = true)\n",
      " |-- last_name: string (nullable = true)\n",
      " |-- full_name: string (nullable = true)\n",
      " |-- status: string (nullable = true)\n",
      " |-- rank: long (nullable = true)\n",
      " |-- points: long (nullable = true)\n",
      " |-- starts: long (nullable = true)\n",
      " |-- wins: long (nullable = true)\n",
      " |-- poles: long (nullable = true)\n",
      " |-- stage_wins: string (nullable = true)\n",
      " |-- chase_bonus: string (nullable = true)\n",
      " |-- chase_wins: string (nullable = true)\n",
      " |-- chase_stage_wins: string (nullable = true)\n",
      " |-- top_5: long (nullable = true)\n",
      " |-- top_10: long (nullable = true)\n",
      " |-- top_15: long (nullable = true)\n",
      " |-- top_20: long (nullable = true)\n",
      " |-- dnf: long (nullable = true)\n",
      " |-- laps_led: long (nullable = true)\n",
      " |-- laps_completed: long (nullable = true)\n",
      " |-- money: double (nullable = true)\n",
      " |-- avg_start_position: double (nullable = true)\n",
      " |-- avg_finish_position: double (nullable = true)\n",
      " |-- avg_laps_completed: double (nullable = true)\n",
      " |-- laps_led_pct: double (nullable = true)\n",
      " |-- in_chase: boolean (nullable = true)\n",
      " |-- behind: string (nullable = true)\n",
      " |-- series: string (nullable = true)\n",
      " |-- season: long (nullable = true)\n",
      "\n"
     ]
    }
   ],
   "source": [
    "driver_standings_spark_df.printSchema()"
   ]
  },
  {
   "cell_type": "code",
   "execution_count": 38,
   "metadata": {},
   "outputs": [],
   "source": [
    "# convert the data frame into parquet format\n",
    "driver_stats_spark_df.write.parquet(\"/project/parquet_files/driver_stats.parquet\", mode = 'overwrite')\n",
    "driver_standings_spark_df.write.parquet(\"/project/parquet_files/driver_standings.parquet\", mode = 'overwrite')"
   ]
  },
  {
   "cell_type": "code",
   "execution_count": 39,
   "metadata": {},
   "outputs": [],
   "source": [
    "# read the parquet files\n",
    "driver_stats_df = spark.read.parquet(\"/project/parquet_files/driver_stats.parquet\").toPandas()\n",
    "driver_standings_df =  spark.read.parquet(\"/project/parquet_files/driver_standings.parquet\").toPandas()"
   ]
  },
  {
   "cell_type": "code",
   "execution_count": 40,
   "metadata": {},
   "outputs": [],
   "source": [
    "driver_stats_df.rename(columns={\"id\":\"driver_id\"},inplace=True)\n",
    "driver_standings_df.rename(columns={\"id\":\"driver_id\"},inplace=True)"
   ]
  },
  {
   "cell_type": "code",
   "execution_count": 41,
   "metadata": {},
   "outputs": [],
   "source": [
    "driver_stats_df.replace(\"nan value\",np.nan,inplace=True)\n",
    "driver_standings_df.replace(\"nan value\",np.nan,inplace=True)"
   ]
  },
  {
   "cell_type": "code",
   "execution_count": 42,
   "metadata": {},
   "outputs": [],
   "source": [
    "#Subsets the data frame\n",
    "personal_info= pd.DataFrame(driver_stats_df[['driver_id','first_name','last_name','full_name','gender','height',\n",
    "                            'weight','birthday','birth_place','country']].drop_duplicates(subset='driver_id',keep='first').reset_index(drop=True))\n",
    "personal_info['id']=range(1,482)\n",
    "\n",
    "social_media= pd.DataFrame(driver_stats_df[['driver_id','twitter']].drop_duplicates().reset_index(drop=True))\n",
    "m1 = ~social_media.duplicated(subset='driver_id', keep=False)\n",
    "m2 = social_media.notnull().all(axis=1)\n",
    "social_media = social_media[m1 | m2]\n",
    "social_media=pd.merge(social_media,personal_info[['driver_id','id']],how='left',on='driver_id')\n",
    "social_media.drop('driver_id',axis=1,inplace=True)\n",
    "social_media.rename(columns={'id':'driver'},inplace=True)\n",
    "social_media['social_media_id']=range(1,484)\n",
    "\n",
    "race_info=pd.DataFrame(driver_standings_df[['season','series']].drop_duplicates().sort_values(by='season',ascending=True).reset_index(drop=True))\n",
    "race_info['id']=range(1,25)\n",
    "\n",
    "status_info=pd.DataFrame(driver_standings_df[['driver_id','status']].drop_duplicates().reset_index(drop=True))\n",
    "status_info['status_info_id']=range(1,478)\n",
    "status_info=pd.merge(status_info,personal_info[['driver_id','id']],how='left',on='driver_id')\n",
    "status_info.drop('driver_id',axis=1,inplace=True)\n",
    "status_info.rename(columns={'id':'driver'},inplace=True)\n",
    "\n",
    "debut_info=pd.DataFrame(driver_stats_df[['driver_id','series','rookie_year']].drop_duplicates().reset_index(drop=True))\n",
    "debut_info['debut_info_id']=range(1,780)\n",
    "debut_info=pd.merge(debut_info,personal_info[['driver_id','id']],how='left',on='driver_id')\n",
    "debut_info.drop('driver_id',axis=1,inplace=True)\n",
    "debut_info.rename(columns={'id':'driver'},inplace=True)\n",
    "\n",
    "earnings=pd.DataFrame(driver_standings_df[['driver_id','money','series','season']].drop_duplicates().reset_index(drop=True))\n",
    "earnings=pd.merge(earnings,race_info,how='left',on=['series','season'])\n",
    "earnings.drop(['series','season'],axis=1,inplace=True)\n",
    "earnings.rename(columns={'id':'race_id'},inplace=True)\n",
    "earnings['earnings_id']=range(1,2162)\n",
    "earnings=pd.merge(earnings,personal_info[['driver_id','id']],how='left',on='driver_id')\n",
    "earnings.drop('driver_id',axis=1,inplace=True)\n",
    "earnings.rename(columns={'id':'driver'},inplace=True)\n",
    "\n",
    "seasonal_achievement= pd.DataFrame(driver_standings_df[['driver_id','rank','starts','points','wins','stage_wins'\n",
    "                                 ,'poles','top_5','top_10','top_15','top_20','series','season']].drop_duplicates().reset_index(drop=True))\n",
    "seasonal_achievement=pd.merge(seasonal_achievement,race_info,how='left',on=['series','season'])\n",
    "seasonal_achievement.drop(['series','season'],axis=1,inplace=True)\n",
    "seasonal_achievement.rename(columns={'id':'race_id'},inplace=True)\n",
    "seasonal_achievement['seasonal_achievement_id']=range(1,2162)\n",
    "seasonal_achievement=pd.merge(seasonal_achievement,personal_info[['driver_id','id']],how='left',on='driver_id')\n",
    "seasonal_achievement.drop('driver_id',axis=1,inplace=True)\n",
    "seasonal_achievement.rename(columns={'id':'driver'},inplace=True)\n",
    "\n",
    "detailed_performance= pd.DataFrame(driver_standings_df[['driver_id','chase_bonus','chase_wins','chase_stage_wins','laps_led',\n",
    "                     'laps_completed' ,'avg_start_position','avg_finish_position','avg_laps_completed', 'laps_led_pct',\n",
    "                     'dnf','in_chase','behind','series','season']].drop_duplicates().reset_index(drop=True))\n",
    "detailed_performance=pd.merge(detailed_performance,race_info,how='left',on=['series','season'])\n",
    "detailed_performance.drop(['series','season'],axis=1,inplace=True)\n",
    "detailed_performance.rename(columns={'id':'race_id'},inplace=True)\n",
    "detailed_performance['detailed_performance_id']=range(1,2162)\n",
    "detailed_performance=pd.merge(detailed_performance,personal_info[['driver_id','id']],how='left',on='driver_id')\n",
    "detailed_performance.drop('driver_id',axis=1,inplace=True)\n",
    "detailed_performance.rename(columns={'id':'driver'},inplace=True)"
   ]
  },
  {
   "cell_type": "code",
   "execution_count": 43,
   "metadata": {},
   "outputs": [],
   "source": [
    "def na_change_type(df):\n",
    "    df.replace(np.nan,'nan value',inplace=True)"
   ]
  },
  {
   "cell_type": "code",
   "execution_count": 44,
   "metadata": {},
   "outputs": [],
   "source": [
    "table_list=[personal_info,social_media,seasonal_achievement,detailed_performance,earnings,debut_info,race_info,status_info]\n",
    "for i in table_list:\n",
    "    na_change_type(i)"
   ]
  },
  {
   "cell_type": "markdown",
   "metadata": {},
   "source": [
    "### Store the data in Parquet format "
   ]
  },
  {
   "cell_type": "code",
   "execution_count": 45,
   "metadata": {},
   "outputs": [],
   "source": [
    "personal_info_df = spark.createDataFrame(personal_info)\n",
    "social_media_df = spark.createDataFrame(social_media)\n",
    "seasonal_achievement_df = spark.createDataFrame(seasonal_achievement)\n",
    "detailed_performance_df = spark.createDataFrame(detailed_performance)\n",
    "earnings_df = spark.createDataFrame(earnings)\n",
    "debut_info_df = spark.createDataFrame(debut_info)\n",
    "race_info_df = spark.createDataFrame(race_info)\n",
    "status_info_df = spark.createDataFrame(status_info)"
   ]
  },
  {
   "cell_type": "code",
   "execution_count": 46,
   "metadata": {},
   "outputs": [
    {
     "name": "stdout",
     "output_type": "stream",
     "text": [
      "root\n",
      " |-- driver_id: string (nullable = true)\n",
      " |-- first_name: string (nullable = true)\n",
      " |-- last_name: string (nullable = true)\n",
      " |-- full_name: string (nullable = true)\n",
      " |-- gender: string (nullable = true)\n",
      " |-- height: string (nullable = true)\n",
      " |-- weight: string (nullable = true)\n",
      " |-- birthday: string (nullable = true)\n",
      " |-- birth_place: string (nullable = true)\n",
      " |-- country: string (nullable = true)\n",
      " |-- id: long (nullable = true)\n",
      "\n",
      "root\n",
      " |-- twitter: string (nullable = true)\n",
      " |-- driver: long (nullable = true)\n",
      " |-- social_media_id: long (nullable = true)\n",
      "\n",
      "root\n",
      " |-- rank: long (nullable = true)\n",
      " |-- starts: long (nullable = true)\n",
      " |-- points: long (nullable = true)\n",
      " |-- wins: long (nullable = true)\n",
      " |-- stage_wins: string (nullable = true)\n",
      " |-- poles: long (nullable = true)\n",
      " |-- top_5: long (nullable = true)\n",
      " |-- top_10: long (nullable = true)\n",
      " |-- top_15: long (nullable = true)\n",
      " |-- top_20: long (nullable = true)\n",
      " |-- race_id: long (nullable = true)\n",
      " |-- seasonal_achievement_id: long (nullable = true)\n",
      " |-- driver: long (nullable = true)\n",
      "\n",
      "root\n",
      " |-- chase_bonus: string (nullable = true)\n",
      " |-- chase_wins: string (nullable = true)\n",
      " |-- chase_stage_wins: string (nullable = true)\n",
      " |-- laps_led: long (nullable = true)\n",
      " |-- laps_completed: long (nullable = true)\n",
      " |-- avg_start_position: double (nullable = true)\n",
      " |-- avg_finish_position: double (nullable = true)\n",
      " |-- avg_laps_completed: double (nullable = true)\n",
      " |-- laps_led_pct: double (nullable = true)\n",
      " |-- dnf: long (nullable = true)\n",
      " |-- in_chase: boolean (nullable = true)\n",
      " |-- behind: string (nullable = true)\n",
      " |-- race_id: long (nullable = true)\n",
      " |-- detailed_performance_id: long (nullable = true)\n",
      " |-- driver: long (nullable = true)\n",
      "\n",
      "root\n",
      " |-- money: double (nullable = true)\n",
      " |-- race_id: long (nullable = true)\n",
      " |-- earnings_id: long (nullable = true)\n",
      " |-- driver: long (nullable = true)\n",
      "\n",
      "root\n",
      " |-- series: string (nullable = true)\n",
      " |-- rookie_year: double (nullable = true)\n",
      " |-- debut_info_id: long (nullable = true)\n",
      " |-- driver: long (nullable = true)\n",
      "\n",
      "root\n",
      " |-- season: long (nullable = true)\n",
      " |-- series: string (nullable = true)\n",
      " |-- id: long (nullable = true)\n",
      "\n",
      "root\n",
      " |-- status: string (nullable = true)\n",
      " |-- status_info_id: long (nullable = true)\n",
      " |-- driver: long (nullable = true)\n",
      "\n"
     ]
    }
   ],
   "source": [
    "personal_info_df.printSchema()\n",
    "social_media_df.printSchema()\n",
    "seasonal_achievement_df.printSchema()\n",
    "detailed_performance_df.printSchema()\n",
    "earnings_df.printSchema()\n",
    "debut_info_df.printSchema()\n",
    "race_info_df.printSchema()\n",
    "status_info_df.printSchema()"
   ]
  },
  {
   "cell_type": "code",
   "execution_count": 47,
   "metadata": {},
   "outputs": [],
   "source": [
    "#change data type\n",
    "def change_data_type(df, col, type_):\n",
    "    return df.withColumn(col,  df[col].cast(type_))"
   ]
  },
  {
   "cell_type": "code",
   "execution_count": 48,
   "metadata": {},
   "outputs": [],
   "source": [
    "personal_info_df = change_data_type(personal_info_df, 'birthday', 'timestamp')\n",
    "personal_info_df = change_data_type(personal_info_df, 'height', 'double')\n",
    "personal_info_df = change_data_type(personal_info_df, 'weight', 'double')\n",
    "\n",
    "seasonal_achievement_df = change_data_type(seasonal_achievement_df, 'stage_wins', 'double')\n",
    "\n",
    "detailed_performance_df = change_data_type(detailed_performance_df, 'chase_bonus', 'double')\n",
    "detailed_performance_df = change_data_type(detailed_performance_df, 'chase_stage_wins', 'double')\n",
    "detailed_performance_df = change_data_type(detailed_performance_df, 'chase_wins', 'double')\n",
    "detailed_performance_df = change_data_type(detailed_performance_df, 'behind', 'double')"
   ]
  },
  {
   "cell_type": "code",
   "execution_count": 49,
   "metadata": {},
   "outputs": [],
   "source": [
    "# convert all data frames into parquet files\n",
    "personal_info_df.write.parquet(\"/project/parquet_files/personal_info.parquet\", mode = 'overwrite')\n",
    "social_media_df.write.parquet(\"/project/parquet_files/social_media.parquet\", mode = 'overwrite')\n",
    "seasonal_achievement_df.write.parquet(\"/project/parquet_files/seasonal_achievement.parquet\", mode = 'overwrite')\n",
    "detailed_performance_df.write.parquet(\"/project/parquet_files/detailed_performance.parquet\", mode = 'overwrite')\n",
    "earnings_df.write.parquet(\"/project/parquet_files/earnings.parquet\", mode = 'overwrite')\n",
    "debut_info_df.write.parquet(\"/project/parquet_files/debut_info.parquet\", mode = 'overwrite')\n",
    "race_info_df.write.parquet(\"/project/parquet_files/race_info.parquet\", mode = 'overwrite')\n",
    "status_info_df.write.parquet(\"/project/parquet_files/status_info.parquet\", mode = 'overwrite')"
   ]
  },
  {
   "cell_type": "markdown",
   "metadata": {},
   "source": [
    "**Write data into the database**"
   ]
  },
  {
   "cell_type": "code",
   "execution_count": 51,
   "metadata": {},
   "outputs": [],
   "source": [
    "from configparser import ConfigParser\n",
    "\n",
    "#Read config.ini file\n",
    "config_object = ConfigParser()\n",
    "config_object.read(\"config.ini\")\n",
    "\n",
    "#Get the password\n",
    "userinfo = config_object[\"USERINFO\"]"
   ]
  },
  {
   "cell_type": "code",
   "execution_count": 52,
   "metadata": {},
   "outputs": [],
   "source": [
    "# read all the tables\n",
    "personal_info_df = spark.read.parquet(\"/project/parquet_files/personal_info.parquet\")\n",
    "social_media_df = spark.read.parquet(\"/project/parquet_files/social_media.parquet\")\n",
    "seasonal_achievement_df = spark.read.parquet(\"/project/parquet_files/seasonal_achievement.parquet\")\n",
    "detailed_performance_df = spark.read.parquet(\"/project/parquet_files/detailed_performance.parquet\")\n",
    "earnings_df = spark.read.parquet(\"/project/parquet_files/earnings.parquet\")\n",
    "debut_info_df = spark.read.parquet(\"/project/parquet_files/debut_info.parquet\")\n",
    "race_info_df = spark.read.parquet(\"/project/parquet_files/race_info.parquet\")\n",
    "status_info_df = spark.read.parquet(\"/project/parquet_files/status_info.parquet\")"
   ]
  },
  {
   "cell_type": "code",
   "execution_count": 53,
   "metadata": {
    "scrolled": true
   },
   "outputs": [],
   "source": [
    "# information for log into postgresql\n",
    "postgres_uri = userinfo['postgres_uri']\n",
    "user = userinfo['user']\n",
    "password = userinfo['password']\n",
    "\n",
    "# write each table into the database\n",
    "personal_info_df.write.jdbc(url=postgres_uri, table=\"nascar.personal_info\", mode=\"append\", \n",
    "                            properties={\"user\":user, \"password\": password, \"driver\": \"org.postgresql.Driver\" })\n",
    "race_info_df.write.jdbc(url=postgres_uri, table=\"nascar.race_info\", mode=\"append\", \n",
    "                        properties={\"user\":user, \"password\": password, \"driver\": \"org.postgresql.Driver\" })\n",
    "social_media_df.write.jdbc(url=postgres_uri, table=\"nascar.social_media\", mode=\"append\", \n",
    "                           properties={\"user\":user, \"password\": password, \"driver\": \"org.postgresql.Driver\" })\n",
    "seasonal_achievement_df.write.jdbc(url=postgres_uri, table=\"nascar.seasonal_achievement\", mode=\"append\", \n",
    "                                   properties={\"user\":user, \"password\": password, \"driver\": \"org.postgresql.Driver\" })\n",
    "detailed_performance_df.write.jdbc(url=postgres_uri, table=\"nascar.detailed_performance\", mode=\"append\", \n",
    "                                   properties={\"user\":user, \"password\": password, \"driver\": \"org.postgresql.Driver\" })\n",
    "earnings_df.write.jdbc(url=postgres_uri, table=\"nascar.earnings\", mode=\"append\", \n",
    "                       properties={\"user\":user, \"password\": password, \"driver\": \"org.postgresql.Driver\" })\n",
    "debut_info_df.write.jdbc(url=postgres_uri, table=\"nascar.debut_info\", mode=\"append\", \n",
    "                         properties={\"user\":user, \"password\": password, \"driver\": \"org.postgresql.Driver\" })\n",
    "status_info_df.write.jdbc(url=postgres_uri, table=\"nascar.status_info\", mode=\"append\", \n",
    "                          properties={\"user\":user, \"password\": password, \"driver\": \"org.postgresql.Driver\" })"
   ]
  },
  {
   "cell_type": "code",
   "execution_count": null,
   "metadata": {},
   "outputs": [],
   "source": []
  }
 ],
 "metadata": {
  "kernelspec": {
   "display_name": "Python [conda env:Python3] *",
   "language": "python",
   "name": "conda-env-Python3-py"
  },
  "language_info": {
   "codemirror_mode": {
    "name": "ipython",
    "version": 3
   },
   "file_extension": ".py",
   "mimetype": "text/x-python",
   "name": "python",
   "nbconvert_exporter": "python",
   "pygments_lexer": "ipython3",
   "version": "3.8.2"
  }
 },
 "nbformat": 4,
 "nbformat_minor": 2
}
